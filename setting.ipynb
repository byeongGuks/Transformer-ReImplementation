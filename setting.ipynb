{
 "cells": [
  {
   "cell_type": "code",
   "execution_count": 3,
   "metadata": {},
   "outputs": [
    {
     "name": "stdout",
     "output_type": "stream",
     "text": [
      "  letztes jahr habe ich diese beiden folien gezeigt, um zu veranschaulichen, dass die arktische eiskappe, die für annähernd drei millionen jahre die grösse der unteren 48 staaten hatte, um 40 prozent geschrumpft ist.  \n",
      "\n"
     ]
    }
   ],
   "source": [
    "\n",
    "\n",
    "#file_path = 'data/de-en/train.en'\n",
    "file_path = 'data/de-en/train.de'\n",
    "\n",
    "f = open(file_path, \"r\", encoding='utf-8')\n",
    "\n",
    "line = f.readline()\n",
    "print(line)\n",
    "\n",
    "f.close()"
   ]
  },
  {
   "cell_type": "markdown",
   "metadata": {},
   "source": [
    "### Dataset Download"
   ]
  },
  {
   "cell_type": "code",
   "execution_count": 1,
   "metadata": {},
   "outputs": [
    {
     "name": "stderr",
     "output_type": "stream",
     "text": [
      "c:\\Users\\DMIS\\anaconda3\\envs\\transformer\\lib\\site-packages\\tqdm\\auto.py:22: TqdmWarning: IProgress not found. Please update jupyter and ipywidgets. See https://ipywidgets.readthedocs.io/en/stable/user_install.html\n",
      "  from .autonotebook import tqdm as notebook_tqdm\n"
     ]
    }
   ],
   "source": [
    "from datasets import load_dataset\n",
    "dataset = load_dataset('iwslt2017', 'iwslt2017-en-de', split='train')"
   ]
  },
  {
   "cell_type": "code",
   "execution_count": 5,
   "metadata": {},
   "outputs": [
    {
     "name": "stdout",
     "output_type": "stream",
     "text": [
      "{'translation': {'de': 'Vielen Dank, Chris.', 'en': 'Thank you so much, Chris.'}}\n",
      "['Vielen', 'Dank,', 'Chris.']\n"
     ]
    }
   ],
   "source": [
    "for instance in dataset :\n",
    "    \n",
    "    li = instance['translation']['de'].split(' ')\n",
    "    print(instance)\n",
    "    print(li)\n",
    "    break"
   ]
  },
  {
   "cell_type": "code",
   "execution_count": 3,
   "metadata": {},
   "outputs": [
    {
     "data": {
      "text/plain": [
       "206112"
      ]
     },
     "execution_count": 3,
     "metadata": {},
     "output_type": "execute_result"
    }
   ],
   "source": [
    "len(dataset)"
   ]
  },
  {
   "cell_type": "code",
   "execution_count": 10,
   "metadata": {},
   "outputs": [],
   "source": [
    "en_len_sum = 0\n",
    "de_len_sum = 0\n",
    "en_wordcnt_sum = 0\n",
    "de_wordcnt_sum = 0\n",
    "\n",
    "for instance in dataset :\n",
    "    en = instance['translation']['en']\n",
    "    de = instance['translation']['de']\n",
    "    \n",
    "    en_len_sum += len(en)\n",
    "    de_len_sum += len(de)\n",
    "    en_wordcnt_sum += len(en.split(' '))\n",
    "    de_wordcnt_sum += len(de.split(' '))\n",
    "    \n",
    "en_len_avg = en_len_sum / len(dataset)\n",
    "de_len_avg = de_len_sum / len(dataset)\n",
    "en_wordcnt_avg = en_wordcnt_sum / len(dataset)\n",
    "de_wordcnt_avg = de_wordcnt_sum / len(dataset)"
   ]
  },
  {
   "cell_type": "code",
   "execution_count": 11,
   "metadata": {},
   "outputs": [
    {
     "name": "stdout",
     "output_type": "stream",
     "text": [
      "en len avg :  94.58208158671013\n",
      "de len avg :  102.66186345287998\n",
      "en word count avg :  17.32632258189722\n",
      "de word count avg :  16.0504968172644\n"
     ]
    }
   ],
   "source": [
    "print(\"en len avg : \", en_len_avg)\n",
    "print(\"de len avg : \", de_len_avg)\n",
    "print(\"en word count avg : \", en_wordcnt_avg)\n",
    "print(\"de word count avg : \", de_wordcnt_avg)"
   ]
  },
  {
   "cell_type": "code",
   "execution_count": null,
   "metadata": {},
   "outputs": [],
   "source": [
    "en_dict \n",
    "for instance in dataset :\n",
    "    en = instance['translation']['en']\n",
    "    de = instance['translation']['de']\n",
    "    \n",
    "    en_wordcnt_sum += len(en.split(' '))\n",
    "    de_wordcnt_sum += len(de.split(' '))"
   ]
  },
  {
   "cell_type": "code",
   "execution_count": 29,
   "metadata": {},
   "outputs": [],
   "source": [
    "en_dict = {}\n",
    "de_dict = {}\n",
    "for instance in dataset :\n",
    "    en_li = instance['translation']['en'][:-1].split(' ')\n",
    "    de_li = instance['translation']['de'][:-1].split(' ')\n",
    "    \n",
    "    for word in en_li :\n",
    "        en_dict[word] = en_dict[word] + 1 if word in en_dict else 1\n",
    "        \n",
    "    for word in de_li :\n",
    "        de_dict[word] = de_dict[word] + 1 if word in de_dict else 1"
   ]
  },
  {
   "cell_type": "code",
   "execution_count": 30,
   "metadata": {},
   "outputs": [
    {
     "name": "stdout",
     "output_type": "stream",
     "text": [
      "('the', 161010)\n",
      "('to', 100507)\n",
      "('of', 93827)\n",
      "('and', 85200)\n",
      "('a', 84718)\n",
      "('that', 63572)\n",
      "('in', 59619)\n",
      "('I', 53550)\n",
      "('is', 49609)\n",
      "('you', 44033)\n",
      "('we', 36726)\n",
      "('And', 35666)\n",
      "('it', 33041)\n",
      "('this', 31505)\n",
      "('was', 23926)\n",
      "('for', 22801)\n",
      "('are', 22094)\n",
      "('have', 21851)\n",
      "('--', 20600)\n",
      "('on', 19952)\n"
     ]
    }
   ],
   "source": [
    "en_word_list = sorted(en_dict.items(), key=lambda x: x[1], reverse=True)\n",
    "\n",
    "for i in range(20) :\n",
    "    print(en_word_list[i])"
   ]
  },
  {
   "cell_type": "code",
   "execution_count": 31,
   "metadata": {},
   "outputs": [
    {
     "name": "stdout",
     "output_type": "stream",
     "text": [
      "('die', 87070)\n",
      "('und', 78501)\n",
      "('der', 57178)\n",
      "('das', 45603)\n",
      "('in', 45496)\n",
      "('zu', 45187)\n",
      "('ist', 44487)\n",
      "('ich', 38783)\n",
      "('wir', 38656)\n",
      "('es', 35694)\n",
      "('Sie', 30697)\n",
      "('sie', 30411)\n",
      "('ein', 29029)\n",
      "('von', 28724)\n",
      "('dass', 28244)\n",
      "('eine', 27321)\n",
      "('nicht', 25727)\n",
      "('Und', 25598)\n",
      "('den', 24169)\n",
      "('mit', 22464)\n"
     ]
    }
   ],
   "source": [
    "de_word_list = sorted(de_dict.items(), key=lambda x: x[1], reverse=True)\n",
    "\n",
    "for i in range(20) :\n",
    "    print(de_word_list[i])"
   ]
  }
 ],
 "metadata": {
  "kernelspec": {
   "display_name": "Python 3",
   "language": "python",
   "name": "python3"
  },
  "language_info": {
   "codemirror_mode": {
    "name": "ipython",
    "version": 3
   },
   "file_extension": ".py",
   "mimetype": "text/x-python",
   "name": "python",
   "nbconvert_exporter": "python",
   "pygments_lexer": "ipython3",
   "version": "3.10.9"
  },
  "orig_nbformat": 4,
  "vscode": {
   "interpreter": {
    "hash": "11938c6bc6919ae2720b4d5011047913343b08a43b18698fd82dedb0d4417594"
   }
  }
 },
 "nbformat": 4,
 "nbformat_minor": 2
}
