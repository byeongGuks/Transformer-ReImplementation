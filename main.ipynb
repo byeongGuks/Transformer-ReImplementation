{
 "cells": [
  {
   "cell_type": "code",
   "execution_count": 1,
   "metadata": {},
   "outputs": [
    {
     "name": "stderr",
     "output_type": "stream",
     "text": [
      "c:\\Users\\DMIS\\anaconda3\\envs\\transformer\\lib\\site-packages\\tqdm\\auto.py:22: TqdmWarning: IProgress not found. Please update jupyter and ipywidgets. See https://ipywidgets.readthedocs.io/en/stable/user_install.html\n",
      "  from .autonotebook import tqdm as notebook_tqdm\n",
      "making vocabulary: 100%|██████████| 949/949 [00:11<00:00, 79.62it/s]\n",
      "making vocabulary: 100%|██████████| 949/949 [00:11<00:00, 82.65it/s]"
     ]
    },
    {
     "name": "stdout",
     "output_type": "stream",
     "text": [
      "(tensor([  4, 491,  70,  83,  73,  59, 184, 948, 135, 224,  54,  69,  27, 124,\n",
      "         18, 111, 531, 640, 274, 225,   0, 949, 199,  88,  59,  98, 413, 359,\n",
      "         58,   6,  -1,   4,   4,  80, 135, 224,  54, 426, 182,  22, 488, 211,\n",
      "        103,  15, 126, 861, 104,  76, 468,  79, 427, 240,   4,   4,   4,  -1,\n",
      "          4], dtype=torch.int32), tensor([  4, 491,  70,  83,  73,  59, 184, 948, 135, 224,  54,  69,  27, 124,\n",
      "         18, 111, 531, 640, 274, 225,   0, 949, 199,  88,  59,  98, 413, 359,\n",
      "         58,   6,  -1,   4,   4,  80, 135, 224,  54, 426, 182,  22, 488, 211,\n",
      "        103,  15, 126, 861, 104,  76, 468,  79, 427, 240,   4,   4,   4,  -1,\n",
      "          4], dtype=torch.int32))\n"
     ]
    },
    {
     "name": "stderr",
     "output_type": "stream",
     "text": [
      "\n"
     ]
    }
   ],
   "source": [
    "import file_reader\n",
    "import tokenizer\n",
    "import sklearn\n",
    "from sklearn.model_selection import train_test_split\n",
    "from tokenizer import Bpe_tokenizer\n",
    "from data_loader import TranslationDataset\n",
    "import re\n",
    "\n",
    "\n",
    "VOCAB_SIZE = 1000\n",
    "file_path_en = 'data/de-en/train.en'\n",
    "file_path_de = 'data/de-en/train.en' \n",
    "##file_path = 'data/de-en/bpe_ex.en'\n",
    "\n",
    "file_reader_en = file_reader.Reader(file_path_en)\n",
    "sentence_en = file_reader_en.read_file()\n",
    "\n",
    "\n",
    "file_reader_de = file_reader.Reader(file_path_de)\n",
    "sentence_de = file_reader_de.read_file()\n",
    "\n",
    "x_train, x_valid, y_train, y_valid = train_test_split(sentence_en, sentence_de, test_size=0.2, shuffle=True)\n",
    "\n",
    "def make_dictionry_and_count(text) :\n",
    "    stop_word_set = set([',', ' ', '-', '', '\\n', '.', '!'])\n",
    "    word_dict = {}  ## key-bpe encoded words / value-count : word set for calculate maximun counted pair\n",
    "    \n",
    "    for line in text :\n",
    "        words = line.split(' ')\n",
    "        \n",
    "        for word in words :\n",
    "            word = re.sub('[,\\-\\n!]', '', word)\n",
    "            if word not in stop_word_set :\n",
    "                splited_word = ''\n",
    "                for character in [*word]:\n",
    "                    splited_word = splited_word + character + ' '\n",
    "                splited_word = splited_word + '</w>'\n",
    "                word_dict[splited_word] = word_dict[splited_word] + 1 if (splited_word in word_dict) else 1   \n",
    "    return word_dict\n",
    "\n",
    "#x_train_dictionary = file_reader_en.make_dictionry_and_count(sentence_en)\n",
    "#y_train_dictionary = file_reader_de.make_dictionry_and_count(sentence_de)\n",
    "x_train_dictionary = make_dictionry_and_count(sentence_en)\n",
    "y_train_dictionary = make_dictionry_and_count(sentence_de)\n",
    "\n",
    "src_tokenizer = Bpe_tokenizer(x_train_dictionary, VOCAB_SIZE)\n",
    "trg_tokenizer = Bpe_tokenizer(y_train_dictionary, VOCAB_SIZE)\n",
    "\n",
    "dataset = TranslationDataset(src_sentences=sentence_en, trg_sentences=sentence_de, src_tokenizer=src_tokenizer, trg_tokenizer=trg_tokenizer, vocab_size=VOCAB_SIZE)\n",
    "print(dataset.__getitem__(10))\n",
    "     \n",
    "\n",
    "#bpe_tokenizer = tokenizer.Bpe_tokenizer(word_dict, vocab_size = 100)\n",
    "\n",
    "#test \n",
    "#print(word_dict)\n",
    "#print(bpe_tokenizer.generate_tokens('low lower newest widest'))"
   ]
  }
 ],
 "metadata": {
  "kernelspec": {
   "display_name": "transformer",
   "language": "python",
   "name": "python3"
  },
  "language_info": {
   "codemirror_mode": {
    "name": "ipython",
    "version": 3
   },
   "file_extension": ".py",
   "mimetype": "text/x-python",
   "name": "python",
   "nbconvert_exporter": "python",
   "pygments_lexer": "ipython3",
   "version": "3.10.9"
  },
  "orig_nbformat": 4,
  "vscode": {
   "interpreter": {
    "hash": "7b6294c64b43a8667afd01fa0fe9aa5ca75eac91be71cf4bc394f10ca18ec119"
   }
  }
 },
 "nbformat": 4,
 "nbformat_minor": 2
}
